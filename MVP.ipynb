MVP 
 
 
 
 
The purpose of the project is to find 5 places suitable for establishing 5 restaurants. The bar graph show that number of entries of each station  in millions versus the busiest
NYC subway stations and their linenames in May 2021, and it is clear that the suitable stations for the restaurants are the busiest one which are KINGS HWY, 34 ST-PENN STA,
34 ST-HERALD SQ, GRD CNTRL-42 ST and 14 ST-UNION SQ. 
