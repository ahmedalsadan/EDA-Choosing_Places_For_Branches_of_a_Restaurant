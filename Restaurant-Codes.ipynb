{
 "cells": [
  {
   "cell_type": "code",
   "execution_count": 1,
   "id": "1d06f7ee",
   "metadata": {},
   "outputs": [],
   "source": [
    "import numpy as np\n",
    "from sqlalchemy import create_engine\n",
    "import pandas as pd\n",
    "import datetime\n",
    "%matplotlib inline\n",
    "import matplotlib.pyplot as plt"
   ]
  },
  {
   "cell_type": "code",
   "execution_count": 2,
   "id": "957463f6",
   "metadata": {},
   "outputs": [],
   "source": [
    "engine = create_engine(\"sqlite:///mta.db\")"
   ]
  },
  {
   "cell_type": "code",
   "execution_count": 4,
   "id": "9a1239ad",
   "metadata": {
    "scrolled": true
   },
   "outputs": [
    {
     "name": "stderr",
     "output_type": "stream",
     "text": [
      "<ipython-input-4-9dbbbb8bc6ba>:1: SADeprecationWarning: The Engine.table_names() method is deprecated and will be removed in a future release.  Please refer to Inspector.get_table_names(). (deprecated since: 1.4)\n",
      "  all_tables = engine.table_names()\n"
     ]
    },
    {
     "data": {
      "text/plain": [
       "['turnstile_210327',\n",
       " 'turnstile_210403',\n",
       " 'turnstile_210410',\n",
       " 'turnstile_210417',\n",
       " 'turnstile_210424',\n",
       " 'turnstile_210501',\n",
       " 'turnstile_210508',\n",
       " 'turnstile_210515',\n",
       " 'turnstile_210522',\n",
       " 'turnstile_210529',\n",
       " 'turnstile_210605',\n",
       " 'turnstile_210612',\n",
       " 'turnstile_210619',\n",
       " 'turnstile_210626']"
      ]
     },
     "execution_count": 4,
     "metadata": {},
     "output_type": "execute_result"
    }
   ],
   "source": [
    "all_tables = engine.table_names()\n",
    "all_tables"
   ]
  },
  {
   "cell_type": "code",
   "execution_count": 2,
   "id": "53edfd52",
   "metadata": {},
   "outputs": [],
   "source": [
    "def get_data(week_num):\n",
    "    url='http://web.mta.info/developers/data/nyct/turnstile/turnstile_{}.txt'\n",
    "    defs=[]\n",
    "    for week in week_num :\n",
    "        file_url=url.format(week)\n",
    "        defs.append(pd.read_csv(file_url))\n",
    "    return pd.concat(defs)\n",
    "\n",
    "\n",
    "week_num=[210327,210403,210410,210417,210424,210501,210508, 210515, 210522, 210529,210605,210612,210619,210626] \n",
    "#chosen dataset sample\n",
    "\n",
    "Three_Months = get_data(week_num)"
   ]
  },
  {
   "cell_type": "code",
   "execution_count": 3,
   "id": "310a50fc",
   "metadata": {},
   "outputs": [],
   "source": [
    "#change to timeSerises and make it in one col called [DATE_TIME]\n",
    "Three_Months[\"DATE_TIME\"] = pd.to_datetime(Three_Months.DATE+\" \"+Three_Months.TIME,\n",
    "                                                  format=\"%m/%d/%Y %H:%M:%S\")"
   ]
  },
  {
   "cell_type": "code",
   "execution_count": 18,
   "id": "712f1ae1",
   "metadata": {},
   "outputs": [
    {
     "data": {
      "text/plain": [
       "Index(['C/A', 'UNIT', 'SCP', 'STATION', 'LINENAME', 'DIVISION', 'DATE', 'TIME',\n",
       "       'DESC', 'ENTRIES', 'EXITS', 'DATE_TIME'],\n",
       "      dtype='object')"
      ]
     },
     "execution_count": 18,
     "metadata": {},
     "output_type": "execute_result"
    }
   ],
   "source": [
    "#take out the spaces in my columns names.\n",
    "Three_Months.columns = [column.strip() for column in Three_Months.columns]\n",
    "Three_Months.columns"
   ]
  },
  {
   "cell_type": "code",
   "execution_count": 4,
   "id": "05ed3496",
   "metadata": {},
   "outputs": [],
   "source": [
    "# Get rid of the duplicate entry\n",
    "Three_Months.sort_values([\"C/A\", \"UNIT\", \"SCP\", \"STATION\", \"DATE_TIME\"], \n",
    "                          inplace=True, ascending=False)\n",
    "Three_Months.drop_duplicates(subset=[\"C/A\", \"UNIT\", \"SCP\", \"STATION\", \"DATE_TIME\"], inplace=True)"
   ]
  },
  {
   "cell_type": "code",
   "execution_count": 5,
   "id": "ccd232d1",
   "metadata": {},
   "outputs": [],
   "source": [
    "turnstiles_daily = (Three_Months\n",
    "                        .groupby([\"C/A\", \"UNIT\", \"SCP\", \"STATION\", \"DATE\"],as_index=False)\n",
    "                        .ENTRIES.first())"
   ]
  },
  {
   "cell_type": "code",
   "execution_count": 6,
   "id": "981b7b2a",
   "metadata": {},
   "outputs": [
    {
     "name": "stderr",
     "output_type": "stream",
     "text": [
      "<ipython-input-6-97c00eda7609>:1: FutureWarning: Indexing with multiple keys (implicitly converted to a tuple of keys) will be deprecated, use a list instead.\n",
      "  turnstiles_daily[[\"PREV_DATE\", \"PREV_ENTRIES\"]] = (turnstiles_daily\n"
     ]
    }
   ],
   "source": [
    "turnstiles_daily[[\"PREV_DATE\", \"PREV_ENTRIES\"]] = (turnstiles_daily\n",
    "                                                   .groupby([\"C/A\", \"UNIT\", \"SCP\", \"STATION\"])[\"DATE\", \"ENTRIES\"]\n",
    "                                                   .apply(lambda grp: grp.shift(1)))"
   ]
  },
  {
   "cell_type": "code",
   "execution_count": 7,
   "id": "2369bbfa",
   "metadata": {},
   "outputs": [
    {
     "name": "stdout",
     "output_type": "stream",
     "text": [
      "238 6641395.0\n",
      "3082 1390173.0\n",
      "18 4340953.0\n",
      "738 18398229.0\n",
      "14 1028362.0\n",
      "25 1400020.0\n",
      "327680 756269765.0\n",
      "262152 553649999.0\n",
      "262152 229572623.0\n",
      "0 5309746.0\n",
      "101 2651127.0\n",
      "104 17275602.0\n",
      "393225 7714275.0\n",
      "2147432315 8421808.0\n",
      "262144 33554713.0\n",
      "24 2627860.0\n",
      "232 4735529.0\n",
      "135 8882903.0\n",
      "1950 13809288.0\n",
      "54 7903750.0\n",
      "113 4454729.0\n",
      "158 7643335.0\n",
      "217 4780275.0\n",
      "1534984195 0.0\n",
      "4 1534984197.0\n",
      "67109632 1.0\n",
      "12517611 82.0\n",
      "23157312 1627480738.0\n",
      "687970551 19471253.0\n",
      "1076 7489966.0\n",
      "463 6101664.0\n",
      "162 1110928.0\n",
      "327 2524852.0\n",
      "262150 2393328.0\n",
      "262152 67112607.0\n",
      "67436550 375578.0\n",
      "143 4070964.0\n",
      "5 58304715.0\n",
      "0 2042881.0\n",
      "528 2341721.0\n",
      "2 33030303.0\n",
      "95 5198958.0\n",
      "79 1663686.0\n",
      "262145 67109778.0\n",
      "77 2320032.0\n",
      "393362 104110933.0\n",
      "175 315605508.0\n",
      "852524 2830560.0\n",
      "66470 17650908.0\n",
      "357 4470823.0\n",
      "70 30154514.0\n",
      "1040213826 4086923.0\n",
      "151200964 50928236.0\n",
      "196847 3277233.0\n",
      "87 303654987.0\n",
      "73220297 1560551488.0\n",
      "146668889 1123536132.0\n",
      "1191142711 12133750.0\n",
      "536886506 2125787.0\n",
      "1441950 12919101.0\n",
      "13943099 8899046.0\n",
      "62 4183413.0\n",
      "632 4266134.0\n",
      "142 1653213.0\n",
      "395 11851520.0\n",
      "91 1925928.0\n",
      "14455033 262149.0\n",
      "0 14455033.0\n"
     ]
    }
   ],
   "source": [
    "def get_daily_counts(row, max_counter):\n",
    "    counter = row[\"ENTRIES\"] - row[\"PREV_ENTRIES\"]\n",
    "    if counter < 0:\n",
    "        # Maybe counter is reversed?\n",
    "        counter = -counter\n",
    "    if counter > max_counter:\n",
    "        # Maybe counter was reset to 0? \n",
    "        print(row[\"ENTRIES\"], row[\"PREV_ENTRIES\"])\n",
    "        counter = min(row[\"ENTRIES\"], row[\"PREV_ENTRIES\"])\n",
    "    if counter > max_counter:\n",
    "        # Check it again to make sure we're not still giving a counter that's too big\n",
    "        return 0\n",
    "    return counter\n",
    "\n",
    "# If counter is > 1Million, then the counter might have been reset.  \n",
    "# Just set it to zero as different counters have different cycle limits\n",
    "# It'd probably be a good idea to use a number even significantly smaller than 1 million as the limit!\n",
    "turnstiles_daily[\"DAILY_ENTRIES\"] = turnstiles_daily.apply(get_daily_counts, axis=1, max_counter=1000000)"
   ]
  },
  {
   "cell_type": "code",
   "execution_count": 8,
   "id": "b510f13b",
   "metadata": {},
   "outputs": [],
   "source": [
    "#daily time series for each STATION, by adding up all the turnstiles in a station.\n",
    "station_daily = turnstiles_daily.groupby([\"STATION\", \"DATE\"])[['DAILY_ENTRIES']].sum().reset_index()"
   ]
  },
  {
   "cell_type": "code",
   "execution_count": 9,
   "id": "361ac670",
   "metadata": {},
   "outputs": [],
   "source": [
    "#Over multiple weeks, sum total ridership for each \n",
    "#station and sort them, so you can find out the stations \n",
    "#with the highest traffic during the time you investigate\n",
    "station_totals = station_daily.groupby('STATION').sum().sort_values('DAILY_ENTRIES', ascending=False).reset_index()"
   ]
  },
  {
   "cell_type": "code",
   "execution_count": 10,
   "id": "dbdf0ae1",
   "metadata": {},
   "outputs": [
    {
     "data": {
      "image/png": "[encoded data removed]",
      "text/plain": [
       "<Figure size 720x360 with 1 Axes>"
      ]
     },
     "metadata": {
      "needs_background": "light"
     },
     "output_type": "display_data"
    }
   ],
   "source": [
    "#Viewing top ten stations\n",
    "plt.figure(figsize=(10,5))\n",
    "plt.bar(x=station_totals['STATION'][:10], height=station_totals['DAILY_ENTRIES'][:10])\n",
    "plt.title('Busiest NYC Subway Stations from 2021/3/27 to 2021/6/26',fontsize=20, weight='bold')\n",
    "plt.xlabel('Stations', fontsize=15, weight='bold')\n",
    "plt.ylabel('Entries', fontsize=15, weight='bold')\n",
    "plt.xticks(rotation=90);"
   ]
  },
  {
   "cell_type": "code",
   "execution_count": 11,
   "id": "ce2117ff",
   "metadata": {},
   "outputs": [],
   "source": [
    "# Get rid of the duplicate exit\n",
    "Three_Months.sort_values([\"C/A\", \"UNIT\", \"SCP\", \"STATION\", \"DATE_TIME\"], \n",
    "                          inplace=True, ascending=False)\n",
    "Three_Months.drop_duplicates(subset=[\"C/A\", \"UNIT\", \"SCP\", \"STATION\", \"DATE_TIME\"], inplace=True)"
   ]
  },
  {
   "cell_type": "code",
   "execution_count": 19,
   "id": "76891f37",
   "metadata": {},
   "outputs": [],
   "source": [
    "turnstiles__daily = (Three_Months\n",
    "                        .groupby([\"C/A\", \"UNIT\", \"SCP\", \"STATION\", \"DATE\"],as_index=False)\n",
    "                        .EXITS.first())"
   ]
  },
  {
   "cell_type": "code",
   "execution_count": 21,
   "id": "77438435",
   "metadata": {},
   "outputs": [
    {
     "name": "stderr",
     "output_type": "stream",
     "text": [
      "<ipython-input-21-5cd4c839de92>:1: FutureWarning: Indexing with multiple keys (implicitly converted to a tuple of keys) will be deprecated, use a list instead.\n",
      "  turnstiles__daily[[\"PREV_DATE\", \"PREV_EXITS\"]] = (turnstiles__daily\n"
     ]
    }
   ],
   "source": [
    "turnstiles__daily[[\"PREV_DATE\", \"PREV_EXITS\"]] = (turnstiles__daily\n",
    "                                                   .groupby([\"C/A\", \"UNIT\", \"SCP\", \"STATION\"])[\"DATE\", \"EXITS\"]\n",
    "                                                   .apply(lambda grp: grp.shift(1)))"
   ]
  },
  {
   "cell_type": "code",
   "execution_count": 22,
   "id": "0c481e97",
   "metadata": {},
   "outputs": [
    {
     "name": "stdout",
     "output_type": "stream",
     "text": [
      "88 8869456.0\n",
      "295 7504407.0\n",
      "218 1653807.0\n",
      "104 436767770.0\n",
      "0 469762048.0\n",
      "8 763625201.0\n",
      "0 3196184.0\n",
      "137 2192493.0\n",
      "161 1075170.0\n",
      "0 1377854.0\n",
      "671146416 2645604.0\n",
      "66 2944229.0\n",
      "68 1090165.0\n",
      "1429 15269731.0\n",
      "58 6427794.0\n",
      "145 2774389.0\n",
      "54 6592830.0\n",
      "133 8070982.0\n",
      "563806220 0.0\n",
      "236 563806220.0\n",
      "14090596 149.0\n",
      "56710393 1627593327.0\n",
      "1174467683 4611970.0\n",
      "239 1671513.0\n",
      "379 3350287.0\n",
      "364 1150163.0\n",
      "1073 2809308.0\n",
      "278 6525554.0\n",
      "14 3077761.0\n",
      "3 16777216.0\n",
      "189 5011886.0\n",
      "0 11489500.0\n",
      "0 3698310.0\n",
      "0 654311429.0\n",
      "131206 3684372.0\n",
      "74 4035691.0\n",
      "241 10121717.0\n",
      "0 16777216.0\n",
      "390 6668124.0\n",
      "573 1332376.0\n",
      "55 68794099.0\n",
      "371 1508657839.0\n",
      "1910 11973082.0\n",
      "181 2046962.0\n",
      "67 2694408.0\n",
      "2013271707 7892372.0\n",
      "167977315 51050462.0\n",
      "304 1885911.0\n",
      "240 236191254.0\n",
      "17316031 134318115.0\n",
      "16813981 71276.0\n",
      "175519766 1980415076.0\n",
      "1140892665 4482550.0\n",
      "1174454286 4599885.0\n",
      "440 9252156.0\n",
      "6714542 2117913.0\n",
      "168 10879546.0\n",
      "8 1010668.0\n",
      "470 1815879.0\n",
      "536 11825747.0\n",
      "3980632 0.0\n",
      "0 3980632.0\n"
     ]
    }
   ],
   "source": [
    "def get__daily_counts(row_, max__counter):\n",
    "    counter_ = row_[\"EXITS\"] - row_[\"PREV_EXITS\"]\n",
    "    if counter_ < 0:\n",
    "        # Maybe counter is reversed?\n",
    "        counter_ = -counter_\n",
    "    if counter_ > max__counter:\n",
    "        # Maybe counter was reset to 0? \n",
    "        print(row_[\"EXITS\"], row_[\"PREV_EXITS\"])\n",
    "        counter_ = min(row_[\"EXITS\"], row_[\"PREV_EXITS\"])\n",
    "    if counter_ > max__counter:\n",
    "        # Check it again to make sure we're not still giving a counter that's too big\n",
    "        return 0\n",
    "    return counter_\n",
    "\n",
    "# If counter is > 1Million, then the counter might have been reset.  \n",
    "# Just set it to zero as different counters have different cycle limits\n",
    "# It'd probably be a good idea to use a number even significantly smaller than 1 million as the limit!\n",
    "turnstiles__daily[\"DAILY_EXITS\"] = turnstiles__daily.apply(get__daily_counts, axis=1, max__counter=1000000)"
   ]
  },
  {
   "cell_type": "code",
   "execution_count": 23,
   "id": "cde0d9fc",
   "metadata": {},
   "outputs": [],
   "source": [
    "#daily time series for each STATION, by adding up all the turnstiles in a station.\n",
    "station__daily = turnstiles__daily.groupby([\"STATION\", \"DATE\"])[['DAILY_EXITS']].sum().reset_index()"
   ]
  },
  {
   "cell_type": "code",
   "execution_count": 24,
   "id": "f58eac7d",
   "metadata": {},
   "outputs": [],
   "source": [
    "#Over multiple weeks, sum total ridership for each \n",
    "#station and sort them, so you can find out the stations \n",
    "#with the highest traffic during the time you investigate\n",
    "station__totals = station__daily.groupby('STATION').sum().sort_values('DAILY_EXITS', ascending=False).reset_index()"
   ]
  },
  {
   "cell_type": "code",
   "execution_count": 25,
   "id": "53292a1f",
   "metadata": {},
   "outputs": [
    {
     "data": {
      "image/png": "[encoded data removed]",
      "text/plain": [
       "<Figure size 720x360 with 1 Axes>"
      ]
     },
     "metadata": {
      "needs_background": "light"
     },
     "output_type": "display_data"
    }
   ],
   "source": [
    "#Viewing top ten stations\n",
    "plt.figure(figsize=(10,5))\n",
    "plt.bar(x=station__totals['STATION'][:10], height=station__totals['DAILY_EXITS'][:10])\n",
    "plt.title('Busiest NYC Subway Stations from 2021/3/27 to 2021/6/26',fontsize=20, weight='bold')\n",
    "plt.xlabel('Stations', fontsize=15, weight='bold')\n",
    "plt.ylabel('Exits', fontsize=15, weight='bold')\n",
    "plt.xticks(rotation=90);"
   ]
  }
 ],
 "metadata": {
  "kernelspec": {
   "display_name": "Python 3",
   "language": "python",
   "name": "python3"
  },
  "language_info": {
   "codemirror_mode": {
    "name": "ipython",
    "version": 3
   },
   "file_extension": ".py",
   "mimetype": "text/x-python",
   "name": "python",
   "nbconvert_exporter": "python",
   "pygments_lexer": "ipython3",
   "version": "3.8.8"
  }
 },
 "nbformat": 4,
 "nbformat_minor": 5
}
